{
  "nbformat": 4,
  "nbformat_minor": 0,
  "metadata": {
    "colab": {
      "provenance": []
    },
    "kernelspec": {
      "name": "python3",
      "display_name": "Python 3"
    },
    "language_info": {
      "name": "python"
    }
  },
  "cells": [
    {
      "cell_type": "markdown",
      "source": [
        "Secure Password Analyzer\n"
      ],
      "metadata": {
        "id": "79SmJoCOMS9M"
      }
    },
    {
      "cell_type": "code",
      "source": [
        "pip install requests"
      ],
      "metadata": {
        "id": "EmryThKaK_lI"
      },
      "execution_count": null,
      "outputs": []
    },
    {
      "cell_type": "code",
      "source": [
        "import hashlib\n",
        "import requests\n",
        "import re\n",
        "\n",
        "common_passwords = [\n",
        "    \"123456\", \"password\", \"123456789\", \"12345678\", \"12345\",\n",
        "    \"111111\", \"123123\", \"qwerty\", \"abc123\", \"password1\"\n",
        "]\n",
        "\n",
        "# Function to check password strength\n",
        "def check_password_strength(password):\n",
        "    score = 0\n",
        "    feedback = []\n",
        "\n",
        "    # Length\n",
        "    if len(password) >= 8:\n",
        "        score += 1\n",
        "    else:\n",
        "        feedback.append(\"Password should be at least 8 characters long.\")\n",
        "\n",
        "    # Upper and lower case\n",
        "    if re.search(r'[A-Z]', password) and re.search(r'[a-z]', password):\n",
        "        score += 1\n",
        "    else:\n",
        "        feedback.append(\"Use a mix of uppercase and lowercase letters.\")\n",
        "\n",
        "    # Digits\n",
        "    if re.search(r'[0-9]', password):\n",
        "        score += 1\n",
        "    else:\n",
        "        feedback.append(\"Include at least one number.\")\n",
        "\n",
        "    # Special characters\n",
        "    if re.search(r'[\\W_]', password):\n",
        "        score += 1\n",
        "    else:\n",
        "        feedback.append(\"Include at least one special character (e.g., !, @, #, etc.).\")\n",
        "\n",
        "    # Determine strength level\n",
        "    if score == 4:\n",
        "        level = \"Strong Password\"\n",
        "    elif score >= 2:\n",
        "        level = \"Moderate Password\"\n",
        "    else:\n",
        "        level = \"Weak Password\"\n",
        "\n",
        "    numeric_score = score * 2.5  # Out of 10\n",
        "\n",
        "    return level, feedback, numeric_score\n",
        "\n",
        "# Function to check if password is found in data breaches\n",
        "def check_pwned_password(password):\n",
        "    sha1pwd = hashlib.sha1(password.encode('utf-8')).hexdigest().upper()\n",
        "    prefix = sha1pwd[:5]\n",
        "    suffix = sha1pwd[5:]\n",
        "\n",
        "    url = f\"https://api.pwnedpasswords.com/range/{prefix}\"\n",
        "    res = requests.get(url)\n",
        "\n",
        "    if res.status_code != 200:\n",
        "        return \"Error checking breach status. Please try again later.\"\n",
        "\n",
        "    hashes = res.text.splitlines()\n",
        "    for line in hashes:\n",
        "        hash_suffix, count = line.split(':')\n",
        "        if hash_suffix == suffix:\n",
        "            return f\"This password has been found in {count} data breaches. Avoid using it.\"\n",
        "\n",
        "    return \"This password was not found in any known data breach.\"\n",
        "\n",
        "# Main Program\n",
        "if __name__ == \"__main__\":\n",
        "    print(\"Password Strength and Breach Checker\")\n",
        "    print(\"Your password is never stored or transmitted beyond the secure API.\\n\")\n",
        "\n",
        "    while True:\n",
        "        password = input(\"Enter a password to check (or type 'exit' to quit): \")\n",
        "        if password.lower() == 'exit':\n",
        "            print(\"Exiting. Stay secure!\")\n",
        "            break\n",
        "\n",
        "        # Check if password is common\n",
        "        if password in common_passwords:\n",
        "            print(\"Warning: This is a very common password. Avoid using it.\")\n",
        "\n",
        "        # Strength Check\n",
        "        print(\"\\n[1] Strength Analysis\")\n",
        "        strength, suggestions, score = check_password_strength(password)\n",
        "        print(f\"Result: {strength}\")\n",
        "        print(f\"Strength Score: {score}/10\")\n",
        "        for tip in suggestions:\n",
        "            print(f\" - {tip}\")\n",
        "\n",
        "        # Breach Check\n",
        "        print(\"\\n[2] Breach Status\")\n",
        "        breach_result = check_pwned_password(password)\n",
        "        print(f\"Result: {breach_result}\")\n",
        "\n",
        "        print(\"\\n\" + \"-\" * 50 + \"\\n\")\n"
      ],
      "metadata": {
        "colab": {
          "base_uri": "https://localhost:8080/"
        },
        "id": "vzK_yBweBxBS",
        "outputId": "6b39ff8d-559b-4824-e668-0a31be8fd4b4"
      },
      "execution_count": null,
      "outputs": [
        {
          "output_type": "stream",
          "name": "stdout",
          "text": [
            "Password Strength and Breach Checker\n",
            "Your password is never stored or transmitted beyond the secure API.\n",
            "\n",
            "Enter a password to check (or type 'exit' to quit): hi@123\n",
            "\n",
            "[1] Strength Analysis\n",
            "Result: Moderate Password\n",
            "Strength Score: 5.0/10\n",
            " - Password should be at least 8 characters long.\n",
            " - Use a mix of uppercase and lowercase letters.\n",
            "\n",
            "[2] Breach Status\n",
            "Result: This password has been found in 401 data breaches. Avoid using it.\n",
            "\n",
            "--------------------------------------------------\n",
            "\n",
            "Enter a password to check (or type 'exit' to quit): exit\n",
            "Exiting. Stay secure!\n"
          ]
        }
      ]
    }
  ]
}